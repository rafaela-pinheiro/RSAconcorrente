{
 "cells": [
  {
   "cell_type": "code",
   "execution_count": 1,
   "metadata": {},
   "outputs": [],
   "source": [
    "códigos_para_símbolos = {111: '0', 112: '1', 113: '2', 114: '3', 115: '4',\n",
    "116: '5', 117: '6', 118: '7', 119: '8', 121: '9', 122: '=', 123: '+',\n",
    "124: '-', 125: '/', 126: '*', 127: 'a', 128: 'b', 129: 'c', 131: 'd',\n",
    "132: 'e', 133: 'f', 134: 'g', 135: 'h', 136: 'i', 137: 'j', 138: 'k',\n",
    "139: 'l', 141: 'm', 142: 'n', 143: 'o', 144: 'p', 145: 'q', 146: 'r',\n",
    "147: 's', 148: 't', 149: 'u', 151: 'v', 152: 'w', 153: 'x', 154: 'y',\n",
    "155: 'z', 156: 'á', 157: 'à', 158: 'â', 159: 'ã', 161: 'é', 162: 'ê',\n",
    "163: 'í', 164: 'ó', 165: 'ô', 166: 'õ', 167: 'ú', 168: 'ç', 169: 'A',\n",
    "171: 'B', 172: 'C', 173: 'D', 174: 'E', 175: 'F', 176: 'G', 177: 'H',\n",
    "178: 'I', 179: 'J', 181: 'K', 182: 'L', 183: 'M', 184: 'N', 185: 'O',\n",
    "186: 'P', 187: 'Q', 188: 'R', 189: 'S', 191: 'T', 192: 'U', 193: 'V',\n",
    "194: 'W', 195: 'X', 196: 'Y', 197: 'Z', 198: 'Á', 199: 'À', 211: 'Â',\n",
    "212: 'Ã', 213: 'É', 214: 'Ê', 215: 'Í', 216: 'Ó', 217: 'Ô', 218: 'Õ',\n",
    "219: 'Ú', 221: 'Ç', 222: ',', 223: '.', 224: '!', 225: '?', 226: ';',\n",
    "227: ':', 228: '_', 229: '(', 231: ')', 232: '\"', 233: '#', 234: '$',\n",
    "235: '%', 236: '@', 237: ' ', 238: '\\n', 239: '{', 241:'}', 242: \"'\"}\n",
    "\n",
    "símbolos_para_códigos = {'0': 111, '1': 112, '2': 113, '3': 114, '4': 115,\n",
    "'5': 116, '6': 117, '7': 118, '8': 119, '9': 121, '=': 122, '+': 123,\n",
    "'-': 124, '/': 125, '*': 126, 'a': 127, 'b': 128, 'c': 129, 'd': 131,\n",
    "'e': 132, 'f': 133, 'g': 134, 'h': 135, 'i': 136, 'j': 137, 'k': 138,\n",
    "'l': 139, 'm': 141, 'n': 142, 'o': 143, 'p': 144, 'q': 145, 'r': 146,\n",
    "'s': 147, 't': 148, 'u': 149, 'v': 151, 'w': 152, 'x': 153, 'y': 154,\n",
    "'z': 155, 'á': 156, 'à': 157, 'â': 158, 'ã': 159, 'é': 161, 'ê': 162,\n",
    "'í': 163, 'ó': 164, 'ô': 165, 'õ': 166, 'ú': 167, 'ç': 168, 'A': 169,\n",
    "'B': 171, 'C': 172, 'D': 173, 'E': 174, 'F': 175, 'G': 176, 'H': 177,\n",
    "'I': 178, 'J': 179, 'K': 181, 'L': 182, 'M': 183, 'N': 184, 'O': 185,\n",
    "'P': 186, 'Q': 187, 'R': 188, 'S': 189, 'T': 191, 'U': 192, 'V': 193,\n",
    "'W': 194, 'X': 195, 'Y': 196, 'Z': 197, 'Á': 198, 'À': 199, 'Â': 211,\n",
    "'Ã': 212, 'É': 213, 'Ê': 214, 'Í': 215, 'Ó': 216, 'Ô': 217, 'Õ': 218,\n",
    "'Ú': 219, 'Ç': 221, ',': 222, '.': 223, '!': 224, '?': 225, ';': 226,\n",
    "':': 227, '_': 228, '(': 229, ')': 231, '\"': 232, '#': 233, '$': 234,\n",
    "'%': 235, '@': 236, ' ': 237, '\\n': 238, '{':239, '}':241, \"'\":242}"
   ]
  },
  {
   "cell_type": "code",
   "execution_count": 2,
   "metadata": {},
   "outputs": [],
   "source": [
    "def algoritmo_estendido_euclideano(a,b): #Alg. Estendido de Euclides\n",
    "  x_antigo = y_novo = 1\n",
    "  x_novo = y_antigo = 0\n",
    "  Dividendo, Divisor = a, b\n",
    "  while Divisor != 0:\n",
    "    #Quociente, Resto = Dividendo//Divisor, Dividendo%Divisor\n",
    "    Quociente, Resto = divmod(Dividendo, Divisor)\n",
    "    x_antigo, x_novo = x_novo, x_antigo - x_novo*Quociente\n",
    "    y_antigo, y_novo = y_novo, y_antigo - y_novo*Quociente\n",
    "    Dividendo, Divisor = Divisor, Resto\n",
    "  if Dividendo >= 0:\n",
    "    return Dividendo, x_antigo, y_antigo\n",
    "  return -Dividendo, -x_antigo, -y_antigo"
   ]
  },
  {
   "cell_type": "code",
   "execution_count": 3,
   "metadata": {},
   "outputs": [],
   "source": [
    "def modinv(e, phi): #Inverso Modular\n",
    "    mdc, x, y = algoritmo_estendido_euclideano(e, phi)\n",
    "    return x % phi"
   ]
  },
  {
   "cell_type": "code",
   "execution_count": 21,
   "metadata": {},
   "outputs": [],
   "source": [
    "def inverter(e,mod):\n",
    "    while(True):\n",
    "        if(mod%e == 0):\n",
    "            e = e+1\n",
    "            continue\n",
    "        else:\n",
    "            mdc,d, _ =  algoritmo_estendido_euclideano(e,mod)\n",
    "            if(d<0):\n",
    "                e = e+1\n",
    "                continue\n",
    "            if(e%2==0 or testa_primo(e)==False):\n",
    "                e = e+1\n",
    "                continue\n",
    "        break\n",
    "    return e,d"
   ]
  },
  {
   "cell_type": "code",
   "execution_count": 4,
   "metadata": {},
   "outputs": [],
   "source": [
    "def parte_ímpar(m):\n",
    "  \"\"\"Retorna k,q com q ímpar tal que m = 2**k * q\"\"\"\n",
    "  k = 0\n",
    "  q = m\n",
    "  while q%2 == 0:\n",
    "    k += 1\n",
    "    q //= 2\n",
    "  return k,q"
   ]
  },
  {
   "cell_type": "code",
   "execution_count": 5,
   "metadata": {},
   "outputs": [],
   "source": [
    "def teste_Miller_Rabin(n,b):\n",
    "  assert n%2 == 1, \"n deve ser ímpar na entrada! (╯°□°)╯︵ ʞooqǝɔɐℲ \"\n",
    "  k, q = parte_ímpar(n-1)\n",
    "  \n",
    "  x = pow(b, q, n) # calcula a ***forma reduzida*** de b^q mod n\n",
    "  # x está na faixa 0, 1, ..., n-1\n",
    "  if x == 1 or x == n-1:\n",
    "    return \"teste inconclusivo\"\n",
    "  # else implícito\n",
    "  contador = 0\n",
    "  while True:\n",
    "    x = pow(x,2,n)\n",
    "    contador += 1\n",
    "    if x == 1:\n",
    "      return \"composto\"\n",
    "    if contador == k:\n",
    "      return \"composto\"\n",
    "    if x == n-1:\n",
    "      return \"teste inconclusivo\""
   ]
  },
  {
   "cell_type": "code",
   "execution_count": 15,
   "metadata": {},
   "outputs": [],
   "source": [
    "from random import randrange #Gera um número primo suficientemente grande tal que esteja entre 10**n + 1, 10**(n+2)\n",
    "def gerar_primos(n): \n",
    "    sorteados = []\n",
    "    while(True):\n",
    "        vezes = 10 #Número de vezes que o teste de Miller-Rabin será feito\n",
    "        sorteado = randrange(10**n + 1, 10**(n+2), 2) #Sorteia um número ímpar\n",
    "        composto = False #Variável que indica se o número sorteado é composto ou não\n",
    "        for _ in range(vezes): #Testa o número sorteado 10 vezes\n",
    "            base_sorteada = randrange(2, sorteado-1) \n",
    "            while(True): \n",
    "                if base_sorteada in sorteados: #Se a base sorteada já foi testada, sorteia outra base\n",
    "                    base_sorteada = randrange(2, sorteado-1)\n",
    "                    continue \n",
    "                else: \n",
    "                    sorteados.append(base_sorteada) #Se a base sorteada não foi testada, adiciona ela na lista de sorteados\n",
    "                    break\n",
    "            if teste_Miller_Rabin(sorteado, base_sorteada) == 'composto': #Se o número sorteado for composto, ele é descartado\n",
    "                composto = True\n",
    "        if(composto == False): #Se o número sorteado não for composto, ele é retornado\n",
    "            return sorteado     "
   ]
  },
  {
   "cell_type": "code",
   "execution_count": 14,
   "metadata": {},
   "outputs": [],
   "source": [
    "def testa_primo(n): #Testa se um número é primo ou não rodando o teste de Miller-Rabin 10 vezes\n",
    "    vezes = 10\n",
    "    composto = False\n",
    "    for _ in range(vezes):\n",
    "        base_sorteada = randrange(2, n-1)\n",
    "        if teste_Miller_Rabin(n, base_sorteada) == 'composto':\n",
    "            composto = True\n",
    "    if(composto == False):\n",
    "        return True\n",
    "    return False"
   ]
  },
  {
   "cell_type": "code",
   "execution_count": 12,
   "metadata": {},
   "outputs": [],
   "source": [
    "def gera_chave(): #Gera os dois primos p e q e a chave pública e privada e o phi\n",
    "    p = gerar_primos(10) \n",
    "    while(True):#Aquela probabilidade de cair um raio na minha cabeça, dificil mas nao impossível.\n",
    "        q = gerar_primos(10)\n",
    "        if(p != q): #Se p e q forem iguais, sorteia outro q\n",
    "            break\n",
    "    phi = (p-1)*(q-1)\n",
    "    e,d = inverter(3,phi) #Chave pública e privada, respectivamente. Gerados a partir da inversão modular de 3 (menor valor primo aceitavél para e) e phi\n",
    "    return p,q, p*q,phi,e,d"
   ]
  },
  {
   "cell_type": "code",
   "execution_count": 11,
   "metadata": {},
   "outputs": [],
   "source": [
    "def encriptar(texto, n, e): #Encripta o texto\n",
    "    lista = list(texto) #Transforma o texto em uma lista, para acessar como se fosse um vetorbonitin\n",
    "    for i in range(len(texto)):\n",
    "        lista[i] = símbolos_para_códigos[texto[i]] #Transforma cada caractere em um número, seguindo a tabela e joga na lista\n",
    "    texto = ''.join(map(str,lista)) #Transforma a lista(texto transformado em numeros) em uma string só\n",
    "    txt = ''\n",
    "    blocos = []\n",
    "\n",
    "    for i in range(len(texto)):\n",
    "        if(int(txt + texto[i])<n): #Se o número formado com os caracteres até o momento for menor que n, ele é adicionado a txt\n",
    "            txt = txt + texto[i]\n",
    "        else: #Se o numero formado pelos caracteres do texto se tornar maior que n, ele é adicionado a blocos e txt é zerado\n",
    "            blocos.append(txt)\n",
    "            txt = texto[i]\n",
    "    if(len(blocos)!=0): #Se blocos não for vazio, ele é adicionado a blocos\n",
    "        if(txt != blocos[-1]):\n",
    "            blocos.append(txt)\n",
    "    else: \n",
    "        blocos.append(txt)\n",
    "    blocos_lista = [] #Lista que vai conter os blocos encriptados\n",
    "    for i in range(len(blocos)):\n",
    "        blocos_lista.append(pow(int(blocos[i]), e,n)) #Encripta cada bloco e adiciona a blocos_lista\n",
    "    return blocos_lista, blocos"
   ]
  },
  {
   "cell_type": "code",
   "execution_count": 17,
   "metadata": {},
   "outputs": [],
   "source": [
    "def descriptar(blocos,n,d): #Descripta os blocos\n",
    "    descriptado = []\n",
    "    for i in range(len(blocos)):\n",
    "        descriptado.append(pow(blocos[i], d,n)) #Descripta cada bloco\n",
    "    descriptado_str = ''.join(map(str, descriptado)) #Transforma a lista em uma string só\n",
    "    txt = ''\n",
    "    txt_final = ''\n",
    "    for i in range(len(descriptado_str)):\n",
    "        txt = str(txt + descriptado_str[i])\n",
    "        if(int(i+1) % 3 ==0): #De 3 em 3 numeros temos uma letra diferente, então podemos fazer a conversão de numero para texto \n",
    "           txt_final = txt_final+ códigos_para_símbolos[int(txt)]\n",
    "           txt=''\n",
    "    return txt_final\n"
   ]
  },
  {
   "cell_type": "code",
   "execution_count": 24,
   "metadata": {},
   "outputs": [
    {
     "data": {
      "text/plain": [
       "'Shreak'"
      ]
     },
     "execution_count": 24,
     "metadata": {},
     "output_type": "execute_result"
    }
   ],
   "source": [
    "texto = input(\"Digite o texto a ser encriptado: \")\n",
    "p,q,n,phi,e,d = gera_chave()\n",
    "encriptado, boriginais = encriptar(texto,n, e)\n",
    "encriptado\n",
    "with open(\"saida.txt\", \"w\") as output: #Escreve o texto encriptado (blocos) no arquivo saida.txt\n",
    "    output.write(str(encriptado))\n",
    "with open(\"original.txt\", \"w\") as output: #Escreve os blocos originais no arquivo original.txt\n",
    "    output.write(str(boriginais))\n",
    "descriptar(encriptado,n,d)"
   ]
  }
 ],
 "metadata": {
  "kernelspec": {
   "display_name": "Python 3.10.6 64-bit",
   "language": "python",
   "name": "python3"
  },
  "language_info": {
   "codemirror_mode": {
    "name": "ipython",
    "version": 3
   },
   "file_extension": ".py",
   "mimetype": "text/x-python",
   "name": "python",
   "nbconvert_exporter": "python",
   "pygments_lexer": "ipython3",
   "version": "3.10.6"
  },
  "orig_nbformat": 4,
  "vscode": {
   "interpreter": {
    "hash": "916dbcbb3f70747c44a77c7bcd40155683ae19c65e1c03b4aa3499c5328201f1"
   }
  }
 },
 "nbformat": 4,
 "nbformat_minor": 2
}
